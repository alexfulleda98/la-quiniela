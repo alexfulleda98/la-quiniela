{
 "cells": [
  {
   "attachments": {},
   "cell_type": "markdown",
   "metadata": {},
   "source": [
    "# Data Analysis\n",
    "Write a Jupyter Notebook called AnalyticalWork.ipynb with your answers to the\n",
    "following exercises/questions."
   ]
  },
  {
   "cell_type": "code",
   "execution_count": 34,
   "metadata": {},
   "outputs": [],
   "source": [
    "import pandas as pd\n",
    "import sqlite3\n",
    "import matplotlib.pyplot as plt"
   ]
  },
  {
   "cell_type": "code",
   "execution_count": 35,
   "metadata": {},
   "outputs": [],
   "source": [
    "con = sqlite3.connect(r\"../laliga.sqlite\")\n",
    "df = pd.read_sql_query(\"SELECT * FROM Matches\", con)"
   ]
  },
  {
   "attachments": {},
   "cell_type": "markdown",
   "metadata": {},
   "source": [
    "1. Is it true that the home team is more likely to win? Make a pie chart showing the result distribution (whether home team wins, visitor team wins, or\n",
    "there’s a tie) of all matches in the data. Write in the plot the percentage of\n",
    "each category."
   ]
  },
  {
   "cell_type": "code",
   "execution_count": null,
   "metadata": {},
   "outputs": [],
   "source": [
    "\n"
   ]
  },
  {
   "attachments": {},
   "cell_type": "markdown",
   "metadata": {},
   "source": [
    "2. What are the top ten scoring teams of all time? What are the ten teams\n",
    "that concede the most? Make two bar plot charts showing each of them.\n",
    "Consider only matches played in 1st division.\n",
    "What have been the biggest wins? Of course, when we say biggest we mean\n",
    "those with the highest goal difference. Show the top ten of them in a table."
   ]
  },
  {
   "cell_type": "code",
   "execution_count": null,
   "metadata": {},
   "outputs": [],
   "source": []
  },
  {
   "attachments": {},
   "cell_type": "markdown",
   "metadata": {},
   "source": [
    "3. There has been a lot of discussion about how LaLiga’s television rights have\n",
    "changed game schedules in the last years. Make a bar plot chart showing\n",
    "the number of matches played each weekday, and make also a histogram\n",
    "of match time. Compare this two graphics between seasons 2000-2001 and\n",
    "2020-2021."
   ]
  },
  {
   "cell_type": "code",
   "execution_count": null,
   "metadata": {},
   "outputs": [],
   "source": []
  },
  {
   "attachments": {},
   "cell_type": "markdown",
   "metadata": {},
   "source": [
    "4. Build a cross results table for season 2020-2021. Figure 1 is an example taken\n",
    "from Wikipedia. Try to make it the most similar to this one: use team abbreviations as column names and paint the background of each cell according\n",
    "to result (green in case local team wins and red in case visitor team wins).\n",
    "Also, could you model the intensity of this background color with the goal\n",
    "difference from the match?\n",
    "Write a function that, given the season, plots the cross results table. Function prototype should be like plot_cross_results_table(season) and return the plot object.\n"
   ]
  },
  {
   "cell_type": "code",
   "execution_count": null,
   "metadata": {},
   "outputs": [],
   "source": []
  },
  {
   "attachments": {},
   "cell_type": "markdown",
   "metadata": {},
   "source": [
    "5. As you surely know, there has always been a historical rivalry between\n",
    "Barcelona and Real Madrid. But which of them has won the most games\n",
    "in direct confrontations? Which of them has scored the most goals in these\n",
    "games? Show both things in two pie charts, side by side. Remember to consider ties in the first one.\n",
    "Write a function that, given two team names, plots the two graphs described\n",
    "above. Function prototype should be like plot_direct_confrontations_stats(team1, team2) and return the plot object. Use it with some other\n",
    "classical rivals like Betis and Sevilla."
   ]
  },
  {
   "cell_type": "code",
   "execution_count": null,
   "metadata": {},
   "outputs": [],
   "source": []
  },
  {
   "attachments": {},
   "cell_type": "markdown",
   "metadata": {},
   "source": [
    "6. Between 1979 and 1980, Real Sociedad managed to chain a total of 38 games\n",
    "without losing. That was, by far, the longest undefeated streak in their history. Which teams have had the longest undefeated streaks? Show the\n",
    "longest undefeated streaks in a horizontal bar plot, indicating in each bar\n",
    "the team name and the dates it held that streak, for instance, Real Sociedad\n",
    "22/04/1979 - 04/05/1980."
   ]
  },
  {
   "cell_type": "code",
   "execution_count": null,
   "metadata": {},
   "outputs": [],
   "source": []
  },
  {
   "attachments": {},
   "cell_type": "markdown",
   "metadata": {},
   "source": [
    "7. Create a table with the final standings of each season (and division), that\n",
    "is, a table that contains all the teams ordered (in descending order) by the\n",
    "number of points they got during that season, and some other aggregate\n",
    "statistics. The table must contain the following columns: season, division,\n",
    "ranking, team, GF (total goals scored), GA (total goals conceded), GD (goals\n",
    "difference), W (total wins), L (total loses), T (total ties), Pts (points). Remember that, in football, you earn 3 points per victory, and 1 point per tie (none\n",
    "for loses). In case two teams have same number of points, order by GD (descending), and then by GF (also descending). Order the table so that standings of one season come before standings of previous one, and standings of\n",
    "1st division come before standings of 2nd division. Save the final table in Excel with the name SeasonStandings.xlsx in the\n",
    "reports/ folder.\n"
   ]
  },
  {
   "cell_type": "code",
   "execution_count": null,
   "metadata": {},
   "outputs": [],
   "source": []
  },
  {
   "attachments": {},
   "cell_type": "markdown",
   "metadata": {},
   "source": [
    "8. Villarreal is a team that has grown a lot in recent decades. Specially ever\n",
    "since some billionaire guy bought it (Fernando Roig, from Mercadona).\n",
    "Make a line plot showing the rank of Villarreal at the end of each season,\n",
    "from the oldest ones (left) to the earliest ones (right). Consider rankings in\n",
    "2nd division to be a continuation of the 1st one, that is, if there’s N teams in\n",
    "1st division and Villarreal got r position in 2nd division, then it should be\n",
    "placed in N + r. Draw in the same plot a line showing the cut between 1st\n",
    "and 2nd division.\n",
    "Write a function that, given n team names, plots the graph described above\n",
    "of each one of them superposed. Function prototype should be like plot_ranking_evolution(team1, team2, ..., teamN) and return the plot object (note that function should not take one array-type argument, but n arguments). Use it to compare the evolution of all Catalan teams in the data"
   ]
  },
  {
   "cell_type": "code",
   "execution_count": null,
   "metadata": {},
   "outputs": [],
   "source": []
  },
  {
   "attachments": {},
   "cell_type": "markdown",
   "metadata": {},
   "source": [
    "9. In football jargon, those teams that are permanently descending and as-\n",
    "cending between 1st and 2nd division are called elevator teams. What are the\n",
    "most elevator teams in LaLiga? Plot the history of the top 5 of them using the\n",
    "function from exercise 9."
   ]
  },
  {
   "cell_type": "code",
   "execution_count": null,
   "metadata": {},
   "outputs": [],
   "source": []
  },
  {
   "attachments": {},
   "cell_type": "markdown",
   "metadata": {},
   "source": [
    "10. Create a table that is the same as the one in exercise 7, but not only with\n",
    "the season final standings, but the standings at the end of each matchday.\n",
    "Columns are the same, including matchday that tells about which match-day from the season these standings are from. Would you be able to add a\n",
    "new column last_5 with the result of last 5 matches? This column should\n",
    "contain a list like [\"W\", \"L\", \"W\", \"T\", \"T\"]. In this list, the first item is\n",
    "the immediate previous match, the second one is the match before this one,\n",
    "and so on. If there are no 5 previous matches (because matchday < 6, for\n",
    "instance) then just make the list shorter.\n",
    "Save the final table in Excel with the name MatchdayStandings.xlsx in the\n",
    "reports/ folder."
   ]
  },
  {
   "cell_type": "code",
   "execution_count": null,
   "metadata": {},
   "outputs": [],
   "source": []
  },
  {
   "cell_type": "markdown",
   "metadata": {},
   "source": []
  }
 ],
 "metadata": {
  "kernelspec": {
   "display_name": "Python 3",
   "language": "python",
   "name": "python3"
  },
  "language_info": {
   "codemirror_mode": {
    "name": "ipython",
    "version": 3
   },
   "file_extension": ".py",
   "mimetype": "text/x-python",
   "name": "python",
   "nbconvert_exporter": "python",
   "pygments_lexer": "ipython3",
   "version": "3.9.13"
  },
  "orig_nbformat": 4,
  "vscode": {
   "interpreter": {
    "hash": "78d88db8827c45f19ab5715e223d0cc91a77b402b82c80f9fbd32c5645c42377"
   }
  }
 },
 "nbformat": 4,
 "nbformat_minor": 2
}
