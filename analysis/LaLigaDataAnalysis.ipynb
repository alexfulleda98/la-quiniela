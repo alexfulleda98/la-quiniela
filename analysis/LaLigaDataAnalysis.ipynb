{
 "cells": [
  {
   "attachments": {},
   "cell_type": "markdown",
   "metadata": {},
   "source": [
    "# Data Analysis\n",
    "Write a Jupyter Notebook called AnalyticalWork.ipynb with your answers to the\n",
    "following exercises/questions."
   ]
  },
  {
   "cell_type": "code",
   "execution_count": 65,
   "metadata": {},
   "outputs": [],
   "source": [
    "import pandas as pd\n",
    "import sqlite3\n",
    "import matplotlib.pyplot as plt\n",
    "import numpy as np\n",
    "import warnings\n",
    "warnings.filterwarnings('ignore')"
   ]
  },
  {
   "cell_type": "code",
   "execution_count": 66,
   "metadata": {},
   "outputs": [
    {
     "data": {
      "text/html": [
       "<div>\n",
       "<style scoped>\n",
       "    .dataframe tbody tr th:only-of-type {\n",
       "        vertical-align: middle;\n",
       "    }\n",
       "\n",
       "    .dataframe tbody tr th {\n",
       "        vertical-align: top;\n",
       "    }\n",
       "\n",
       "    .dataframe thead th {\n",
       "        text-align: right;\n",
       "    }\n",
       "</style>\n",
       "<table border=\"1\" class=\"dataframe\">\n",
       "  <thead>\n",
       "    <tr style=\"text-align: right;\">\n",
       "      <th></th>\n",
       "      <th>season</th>\n",
       "      <th>division</th>\n",
       "      <th>matchday</th>\n",
       "      <th>date</th>\n",
       "      <th>time</th>\n",
       "      <th>home_team</th>\n",
       "      <th>away_team</th>\n",
       "      <th>score</th>\n",
       "    </tr>\n",
       "  </thead>\n",
       "  <tbody>\n",
       "    <tr>\n",
       "      <th>0</th>\n",
       "      <td>1928-1929</td>\n",
       "      <td>1</td>\n",
       "      <td>1</td>\n",
       "      <td>2/10/29</td>\n",
       "      <td>None</td>\n",
       "      <td>Arenas Club</td>\n",
       "      <td>Athletic Madrid</td>\n",
       "      <td>2:3</td>\n",
       "    </tr>\n",
       "    <tr>\n",
       "      <th>1</th>\n",
       "      <td>1928-1929</td>\n",
       "      <td>1</td>\n",
       "      <td>1</td>\n",
       "      <td>2/10/29</td>\n",
       "      <td>None</td>\n",
       "      <td>Espanyol</td>\n",
       "      <td>Real Unión</td>\n",
       "      <td>3:2</td>\n",
       "    </tr>\n",
       "    <tr>\n",
       "      <th>2</th>\n",
       "      <td>1928-1929</td>\n",
       "      <td>1</td>\n",
       "      <td>1</td>\n",
       "      <td>2/10/29</td>\n",
       "      <td>None</td>\n",
       "      <td>Real Madrid</td>\n",
       "      <td>Catalunya</td>\n",
       "      <td>5:0</td>\n",
       "    </tr>\n",
       "    <tr>\n",
       "      <th>3</th>\n",
       "      <td>1928-1929</td>\n",
       "      <td>1</td>\n",
       "      <td>1</td>\n",
       "      <td>2/10/29</td>\n",
       "      <td>None</td>\n",
       "      <td>Donostia</td>\n",
       "      <td>Athletic</td>\n",
       "      <td>1:1</td>\n",
       "    </tr>\n",
       "    <tr>\n",
       "      <th>4</th>\n",
       "      <td>1928-1929</td>\n",
       "      <td>1</td>\n",
       "      <td>1</td>\n",
       "      <td>2/12/29</td>\n",
       "      <td>None</td>\n",
       "      <td>Racing</td>\n",
       "      <td>Barcelona</td>\n",
       "      <td>0:2</td>\n",
       "    </tr>\n",
       "  </tbody>\n",
       "</table>\n",
       "</div>"
      ],
      "text/plain": [
       "      season  division  matchday     date  time    home_team        away_team  \\\n",
       "0  1928-1929         1         1  2/10/29  None  Arenas Club  Athletic Madrid   \n",
       "1  1928-1929         1         1  2/10/29  None     Espanyol       Real Unión   \n",
       "2  1928-1929         1         1  2/10/29  None  Real Madrid        Catalunya   \n",
       "3  1928-1929         1         1  2/10/29  None     Donostia         Athletic   \n",
       "4  1928-1929         1         1  2/12/29  None       Racing        Barcelona   \n",
       "\n",
       "  score  \n",
       "0   2:3  \n",
       "1   3:2  \n",
       "2   5:0  \n",
       "3   1:1  \n",
       "4   0:2  "
      ]
     },
     "execution_count": 66,
     "metadata": {},
     "output_type": "execute_result"
    }
   ],
   "source": [
    "con = sqlite3.connect(r\"../laliga.sqlite\")\n",
    "df = pd.read_sql_query(\"SELECT * FROM Matches\", con)\n",
    "df.head()"
   ]
  },
  {
   "attachments": {},
   "cell_type": "markdown",
   "metadata": {},
   "source": [
    "1. Is it true that the home team is more likely to win? Make a pie chart showing the result distribution (whether home team wins, visitor team wins, or\n",
    "there’s a tie) of all matches in the data. Write in the plot the percentage of\n",
    "each category."
   ]
  },
  {
   "cell_type": "code",
   "execution_count": 70,
   "metadata": {},
   "outputs": [
    {
     "data": {
      "image/png": "[encoded data removed]",
      "text/plain": [
       "<Figure size 432x288 with 1 Axes>"
      ]
     },
     "metadata": {},
     "output_type": "display_data"
    }
   ],
   "source": [
    "df[[\"home_goals\", \"away_goals\"]] = df[\"score\"].str.split(\":\", expand=True).astype(float)\n",
    "df2=df.dropna()\n",
    "df2[\"goal diff\"] = (df2[\"home_goals\"]  - df2[\"away_goals\"])\n",
    "df2[\"home_win\"] = np.where(df2[\"goal diff\"] > 0, \"Home win\", np.where(df2[\"goal diff\"] < 0, \"Visitor win\", \"Tie\"))\n",
    "home_wins_count = df2[\"home_win\"].value_counts()\n",
    "ax = home_wins_count.plot(kind = 'pie', autopct = '%1.0f%%')\n",
    "ax.set_title(\"Home wins distribution\")\n",
    "plt.show()"
   ]
  },
  {
   "attachments": {},
   "cell_type": "markdown",
   "metadata": {},
   "source": [
    "2. What are the top ten scoring teams of all time? What are the ten teams\n",
    "that concede the most? Make two bar plot charts showing each of them.\n",
    "Consider only matches played in 1st division.\n",
    "What have been the biggest wins? Of course, when we say biggest we mean\n",
    "those with the highest goal difference. Show the top ten of them in a table."
   ]
  },
  {
   "cell_type": "code",
   "execution_count": 68,
   "metadata": {},
   "outputs": [
    {
     "data": {
      "image/png": "[encoded data removed]",
      "text/plain": [
       "<Figure size 1080x432 with 2 Axes>"
      ]
     },
     "metadata": {
      "needs_background": "light"
     },
     "output_type": "display_data"
    }
   ],
   "source": [
    "first_division = df2[df2.division == 1]\n",
    "scored_goals = first_division.pivot_table('home_goals', 'home_team', aggfunc=np.sum)\n",
    "scored_goals['away_goals'] = first_division.pivot_table('away_goals', 'away_team', aggfunc=np.sum)\n",
    "scored_goals['total_goals'] = scored_goals['away_goals'] + scored_goals['home_goals']\n",
    "plt.figure(figsize=(15,6))\n",
    "plt.subplot(1, 2, 1)\n",
    "ax = scored_goals['total_goals'].sort_values(ascending=False).head(10).plot(kind='bar')\n",
    "ax.set_title('Top 10 scoring teams')\n",
    "conceded_goals = first_division.pivot_table('home_goals', 'away_team', aggfunc=np.sum)\n",
    "conceded_goals['away_goals'] = first_division.pivot_table('away_goals', 'home_team', aggfunc=np.sum)\n",
    "conceded_goals['total_goals'] = conceded_goals['away_goals'] + conceded_goals['home_goals']\n",
    "plt.subplot(1, 2, 2)\n",
    "ax2 = conceded_goals['total_goals'].sort_values(ascending=False).head(10).plot(kind='bar')\n",
    "ax2.set_title('Top 10 conceding teams')\n",
    "ax2.set_xlabel('Team')\n",
    "ax2.set_ylabel('Conceded Goals')\n",
    "plt.show()"
   ]
  },
  {
   "cell_type": "code",
   "execution_count": 71,
   "metadata": {},
   "outputs": [
    {
     "name": "stdout",
     "output_type": "stream",
     "text": [
      "Top 10 biggest wins:\n"
     ]
    },
    {
     "data": {
      "text/html": [
       "<div>\n",
       "<style scoped>\n",
       "    .dataframe tbody tr th:only-of-type {\n",
       "        vertical-align: middle;\n",
       "    }\n",
       "\n",
       "    .dataframe tbody tr th {\n",
       "        vertical-align: top;\n",
       "    }\n",
       "\n",
       "    .dataframe thead th {\n",
       "        text-align: right;\n",
       "    }\n",
       "</style>\n",
       "<table border=\"1\" class=\"dataframe\">\n",
       "  <thead>\n",
       "    <tr style=\"text-align: right;\">\n",
       "      <th></th>\n",
       "      <th>season</th>\n",
       "      <th>date</th>\n",
       "      <th>home_team</th>\n",
       "      <th>away_team</th>\n",
       "      <th>score</th>\n",
       "      <th>goal diff</th>\n",
       "    </tr>\n",
       "  </thead>\n",
       "  <tbody>\n",
       "    <tr>\n",
       "      <th>21989</th>\n",
       "      <td>2010-2011</td>\n",
       "      <td>11/20/10</td>\n",
       "      <td>UD Almería</td>\n",
       "      <td>Barcelona</td>\n",
       "      <td>0:8</td>\n",
       "      <td>-8.0</td>\n",
       "    </tr>\n",
       "    <tr>\n",
       "      <th>23683</th>\n",
       "      <td>2014-2015</td>\n",
       "      <td>4/5/15</td>\n",
       "      <td>Real Madrid</td>\n",
       "      <td>Granada CF</td>\n",
       "      <td>9:1</td>\n",
       "      <td>8.0</td>\n",
       "    </tr>\n",
       "    <tr>\n",
       "      <th>23932</th>\n",
       "      <td>2015-2016</td>\n",
       "      <td>12/20/15</td>\n",
       "      <td>Real Madrid</td>\n",
       "      <td>Rayo Vallecano</td>\n",
       "      <td>10:2</td>\n",
       "      <td>8.0</td>\n",
       "    </tr>\n",
       "    <tr>\n",
       "      <th>23739</th>\n",
       "      <td>2014-2015</td>\n",
       "      <td>5/2/15</td>\n",
       "      <td>Córdoba CF</td>\n",
       "      <td>Barcelona</td>\n",
       "      <td>0:8</td>\n",
       "      <td>-8.0</td>\n",
       "    </tr>\n",
       "    <tr>\n",
       "      <th>24110</th>\n",
       "      <td>2015-2016</td>\n",
       "      <td>4/20/16</td>\n",
       "      <td>Dep. La Coruña</td>\n",
       "      <td>Barcelona</td>\n",
       "      <td>0:8</td>\n",
       "      <td>-8.0</td>\n",
       "    </tr>\n",
       "    <tr>\n",
       "      <th>22291</th>\n",
       "      <td>2011-2012</td>\n",
       "      <td>9/17/11</td>\n",
       "      <td>Barcelona</td>\n",
       "      <td>CA Osasuna</td>\n",
       "      <td>8:0</td>\n",
       "      <td>8.0</td>\n",
       "    </tr>\n",
       "    <tr>\n",
       "      <th>23152</th>\n",
       "      <td>2013-2014</td>\n",
       "      <td>11/23/13</td>\n",
       "      <td>Atlético Madrid</td>\n",
       "      <td>Getafe</td>\n",
       "      <td>7:0</td>\n",
       "      <td>7.0</td>\n",
       "    </tr>\n",
       "    <tr>\n",
       "      <th>18278</th>\n",
       "      <td>2000-2001</td>\n",
       "      <td>2/3/01</td>\n",
       "      <td>Barcelona</td>\n",
       "      <td>Athletic</td>\n",
       "      <td>7:0</td>\n",
       "      <td>7.0</td>\n",
       "    </tr>\n",
       "    <tr>\n",
       "      <th>22137</th>\n",
       "      <td>2010-2011</td>\n",
       "      <td>3/3/11</td>\n",
       "      <td>Real Madrid</td>\n",
       "      <td>Málaga CF</td>\n",
       "      <td>7:0</td>\n",
       "      <td>7.0</td>\n",
       "    </tr>\n",
       "    <tr>\n",
       "      <th>22617</th>\n",
       "      <td>2011-2012</td>\n",
       "      <td>4/29/12</td>\n",
       "      <td>Rayo Vallecano</td>\n",
       "      <td>Barcelona</td>\n",
       "      <td>0:7</td>\n",
       "      <td>-7.0</td>\n",
       "    </tr>\n",
       "  </tbody>\n",
       "</table>\n",
       "</div>"
      ],
      "text/plain": [
       "          season      date        home_team       away_team score  goal diff\n",
       "21989  2010-2011  11/20/10       UD Almería       Barcelona   0:8       -8.0\n",
       "23683  2014-2015    4/5/15      Real Madrid      Granada CF   9:1        8.0\n",
       "23932  2015-2016  12/20/15      Real Madrid  Rayo Vallecano  10:2        8.0\n",
       "23739  2014-2015    5/2/15       Córdoba CF       Barcelona   0:8       -8.0\n",
       "24110  2015-2016   4/20/16   Dep. La Coruña       Barcelona   0:8       -8.0\n",
       "22291  2011-2012   9/17/11        Barcelona      CA Osasuna   8:0        8.0\n",
       "23152  2013-2014  11/23/13  Atlético Madrid          Getafe   7:0        7.0\n",
       "18278  2000-2001    2/3/01        Barcelona        Athletic   7:0        7.0\n",
       "22137  2010-2011    3/3/11      Real Madrid       Málaga CF   7:0        7.0\n",
       "22617  2011-2012   4/29/12   Rayo Vallecano       Barcelona   0:7       -7.0"
      ]
     },
     "execution_count": 71,
     "metadata": {},
     "output_type": "execute_result"
    }
   ],
   "source": [
    "first_division['abs_diff'] = abs(first_division['goal diff'])\n",
    "biggest_wins = first_division.sort_values('abs_diff', ascending = False).head(10)\n",
    "print(\"Top 10 biggest wins:\")\n",
    "biggest_wins[['season', 'date', 'home_team', 'away_team', 'score', 'goal diff']]"
   ]
  },
  {
   "attachments": {},
   "cell_type": "markdown",
   "metadata": {},
   "source": [
    "3. There has been a lot of discussion about how LaLiga’s television rights have\n",
    "changed game schedules in the last years. Make a bar plot chart showing\n",
    "the number of matches played each weekday, and make also a histogram\n",
    "of match time. Compare this two graphics between seasons 2000-2001 and\n",
    "2020-2021."
   ]
  },
  {
   "cell_type": "code",
   "execution_count": null,
   "metadata": {},
   "outputs": [],
   "source": []
  },
  {
   "attachments": {},
   "cell_type": "markdown",
   "metadata": {},
   "source": [
    "4. Build a cross results table for season 2020-2021. Figure 1 is an example taken\n",
    "from Wikipedia. Try to make it the most similar to this one: use team abbreviations as column names and paint the background of each cell according\n",
    "to result (green in case local team wins and red in case visitor team wins).\n",
    "Also, could you model the intensity of this background color with the goal\n",
    "difference from the match?\n",
    "Write a function that, given the season, plots the cross results table. Function prototype should be like plot_cross_results_table(season) and return the plot object.\n"
   ]
  },
  {
   "cell_type": "code",
   "execution_count": null,
   "metadata": {},
   "outputs": [],
   "source": []
  },
  {
   "attachments": {},
   "cell_type": "markdown",
   "metadata": {},
   "source": [
    "5. As you surely know, there has always been a historical rivalry between\n",
    "Barcelona and Real Madrid. But which of them has won the most games\n",
    "in direct confrontations? Which of them has scored the most goals in these\n",
    "games? Show both things in two pie charts, side by side. Remember to consider ties in the first one.\n",
    "Write a function that, given two team names, plots the two graphs described\n",
    "above. Function prototype should be like plot_direct_confrontations_stats(team1, team2) and return the plot object. Use it with some other\n",
    "classical rivals like Betis and Sevilla."
   ]
  },
  {
   "cell_type": "code",
   "execution_count": null,
   "metadata": {},
   "outputs": [],
   "source": []
  },
  {
   "attachments": {},
   "cell_type": "markdown",
   "metadata": {},
   "source": [
    "6. Between 1979 and 1980, Real Sociedad managed to chain a total of 38 games\n",
    "without losing. That was, by far, the longest undefeated streak in their history. Which teams have had the longest undefeated streaks? Show the\n",
    "longest undefeated streaks in a horizontal bar plot, indicating in each bar\n",
    "the team name and the dates it held that streak, for instance, Real Sociedad\n",
    "22/04/1979 - 04/05/1980."
   ]
  },
  {
   "cell_type": "code",
   "execution_count": null,
   "metadata": {},
   "outputs": [],
   "source": []
  },
  {
   "attachments": {},
   "cell_type": "markdown",
   "metadata": {},
   "source": [
    "7. Create a table with the final standings of each season (and division), that\n",
    "is, a table that contains all the teams ordered (in descending order) by the\n",
    "number of points they got during that season, and some other aggregate\n",
    "statistics. The table must contain the following columns: season, division,\n",
    "ranking, team, GF (total goals scored), GA (total goals conceded), GD (goals\n",
    "difference), W (total wins), L (total loses), T (total ties), Pts (points). Remember that, in football, you earn 3 points per victory, and 1 point per tie (none\n",
    "for loses). In case two teams have same number of points, order by GD (descending), and then by GF (also descending). Order the table so that standings of one season come before standings of previous one, and standings of\n",
    "1st division come before standings of 2nd division. Save the final table in Excel with the name SeasonStandings.xlsx in the\n",
    "reports/ folder.\n"
   ]
  },
  {
   "cell_type": "code",
   "execution_count": null,
   "metadata": {},
   "outputs": [],
   "source": []
  },
  {
   "attachments": {},
   "cell_type": "markdown",
   "metadata": {},
   "source": [
    "8. Villarreal is a team that has grown a lot in recent decades. Specially ever\n",
    "since some billionaire guy bought it (Fernando Roig, from Mercadona).\n",
    "Make a line plot showing the rank of Villarreal at the end of each season,\n",
    "from the oldest ones (left) to the earliest ones (right). Consider rankings in\n",
    "2nd division to be a continuation of the 1st one, that is, if there’s N teams in\n",
    "1st division and Villarreal got r position in 2nd division, then it should be\n",
    "placed in N + r. Draw in the same plot a line showing the cut between 1st\n",
    "and 2nd division.\n",
    "Write a function that, given n team names, plots the graph described above\n",
    "of each one of them superposed. Function prototype should be like plot_ranking_evolution(team1, team2, ..., teamN) and return the plot object (note that function should not take one array-type argument, but n arguments). Use it to compare the evolution of all Catalan teams in the data"
   ]
  },
  {
   "cell_type": "code",
   "execution_count": null,
   "metadata": {},
   "outputs": [],
   "source": []
  },
  {
   "attachments": {},
   "cell_type": "markdown",
   "metadata": {},
   "source": [
    "9. In football jargon, those teams that are permanently descending and as-\n",
    "cending between 1st and 2nd division are called elevator teams. What are the\n",
    "most elevator teams in LaLiga? Plot the history of the top 5 of them using the\n",
    "function from exercise 9."
   ]
  },
  {
   "cell_type": "code",
   "execution_count": null,
   "metadata": {},
   "outputs": [],
   "source": []
  },
  {
   "attachments": {},
   "cell_type": "markdown",
   "metadata": {},
   "source": [
    "10. Create a table that is the same as the one in exercise 7, but not only with\n",
    "the season final standings, but the standings at the end of each matchday.\n",
    "Columns are the same, including matchday that tells about which match-day from the season these standings are from. Would you be able to add a\n",
    "new column last_5 with the result of last 5 matches? This column should\n",
    "contain a list like [\"W\", \"L\", \"W\", \"T\", \"T\"]. In this list, the first item is\n",
    "the immediate previous match, the second one is the match before this one,\n",
    "and so on. If there are no 5 previous matches (because matchday < 6, for\n",
    "instance) then just make the list shorter.\n",
    "Save the final table in Excel with the name MatchdayStandings.xlsx in the\n",
    "reports/ folder."
   ]
  },
  {
   "cell_type": "code",
   "execution_count": null,
   "metadata": {},
   "outputs": [],
   "source": []
  },
  {
   "cell_type": "markdown",
   "metadata": {},
   "source": []
  }
 ],
 "metadata": {
  "kernelspec": {
   "display_name": "Python 3",
   "language": "python",
   "name": "python3"
  },
  "language_info": {
   "codemirror_mode": {
    "name": "ipython",
    "version": 3
   },
   "file_extension": ".py",
   "mimetype": "text/x-python",
   "name": "python",
   "nbconvert_exporter": "python",
   "pygments_lexer": "ipython3",
   "version": "3.9.13"
  },
  "orig_nbformat": 4,
  "vscode": {
   "interpreter": {
    "hash": "78d88db8827c45f19ab5715e223d0cc91a77b402b82c80f9fbd32c5645c42377"
   }
  }
 },
 "nbformat": 4,
 "nbformat_minor": 2
}
