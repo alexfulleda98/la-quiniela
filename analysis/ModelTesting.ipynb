{
 "cells": [
  {
   "cell_type": "code",
   "execution_count": 16,
   "metadata": {},
   "outputs": [],
   "source": [
    "import pandas as pd\n",
    "import sqlite3\n",
    "import matplotlib.pyplot as plt\n",
    "import numpy as np\n",
    "import warnings\n",
    "from datetime import datetime\n",
    "warnings.filterwarnings('ignore')\n",
    "import random\n",
    "from sklearn.model_selection import train_test_split"
   ]
  },
  {
   "cell_type": "code",
   "execution_count": 28,
   "metadata": {},
   "outputs": [],
   "source": [
    "con = sqlite3.connect(r\"../laliga.sqlite\")\n",
    "# Change date format (2029 -> 1929)\n",
    "df = pd.read_sql_query(\"SELECT * FROM Matches\", con)\n",
    "df[[\"home_goals\", \"away_goals\"]] = df[\"score\"].str.split(\":\", expand=True).astype(float)\n",
    "df2=df.dropna()\n",
    "df2[\"goal diff\"] = (df2[\"home_goals\"]  - df2[\"away_goals\"])\n",
    "df2[\"results\"] = np.where(df2[\"goal diff\"] > 0, \"1\", np.where(df2[\"goal diff\"] < 0, \"2\", \"X\"))\n",
    "df2.head()\n",
    "\n",
    "y = df2.results\n",
    "x = df2[[\"home_team\", \"away_team\"]]\n",
    "#x = data.drop('temp',axis=1)\n",
    "x_train,x_test,y_train,y_test=train_test_split(x,y,test_size=0.3)"
   ]
  },
  {
   "cell_type": "code",
   "execution_count": null,
   "metadata": {},
   "outputs": [],
   "source": [
    "import pickle\n",
    "\n",
    "\n",
    "class QuinielaModel:\n",
    "\n",
    "    def train(self, train_data):\n",
    "        # Do something here to train the model\n",
    "        pass\n",
    "\n",
    "    def predict(self, predict_data):\n",
    "        # Do something here to predict\n",
    "        return [\"X\" for _ in range(len(predict_data))]"
   ]
  }
 ],
 "metadata": {
  "kernelspec": {
   "display_name": "Python 3",
   "language": "python",
   "name": "python3"
  },
  "language_info": {
   "codemirror_mode": {
    "name": "ipython",
    "version": 3
   },
   "file_extension": ".py",
   "mimetype": "text/x-python",
   "name": "python",
   "nbconvert_exporter": "python",
   "pygments_lexer": "ipython3",
   "version": "3.8.10"
  },
  "orig_nbformat": 4,
  "vscode": {
   "interpreter": {
    "hash": "767d51c1340bd893661ea55ea3124f6de3c7a262a8b4abca0554b478b1e2ff90"
   }
  }
 },
 "nbformat": 4,
 "nbformat_minor": 2
}
